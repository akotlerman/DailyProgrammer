{
 "cells": [
  {
   "cell_type": "markdown",
   "metadata": {},
   "source": [
    "# Description\n",
    "\n",
    "Critical hits work a bit differently in this RPG. If you roll the maximum value on a die, you get to roll the die again and add both dice rolls to get your final score. Critical hits can stack indefinitely -- a second max value means you get a third roll, and so on. With enough luck, any number of points is possible.\n",
    "\n",
    "## Input\n",
    "\n",
    "d -- The number of sides on your die.\n",
    "h -- The amount of health left on the enemy.\n",
    "\n",
    "## Output\n",
    "\n",
    "The probability of you getting h or more points with your die.\n",
    "\n",
    "## Challenge Inputs and Outputs\n",
    "\n",
    "    Input: d\tInput: h\tOutput\n",
    "    4\t1\t1\n",
    "    4\t4\t0.25\n",
    "    4\t5\t0.25\n",
    "    4\t6\t0.1875\n",
    "    1\t10\t1\n",
    "    100\t200\t0.0001\n",
    "    8\t20\t0.009765625\n",
    "\n",
    "# Secret, off-topic math bonus round\n",
    "\n",
    "What's the expected (mean) value of a D4? (if you are hoping for as high a total as possible)."
   ]
  },
  {
   "cell_type": "code",
   "execution_count": 77,
   "metadata": {
    "collapsed": false
   },
   "outputs": [
    {
     "name": "stdout",
     "output_type": "stream",
     "text": [
      "For d=4 h=1, prob=1.0\n",
      "For d=4 h=4, prob=0.25\n",
      "For d=4 h=5, prob=0.25\n",
      "For d=4 h=6, prob=0.1875\n",
      "For d=1 h=10, prob=1.0\n",
      "For d=100 h=200, prob=0.0001\n",
      "For d=8 h=20, prob=0.009765625\n"
     ]
    }
   ],
   "source": [
    "def rpg_monster_score_prob(die_size, monster_health): \n",
    "    # Easy case: the die only has to be rolled once to kill \n",
    "    # the monster with a probability of \n",
    "    if die_size >= monster_health:\n",
    "        return (die_size + 1 - monster_health) / die_size\n",
    "    \n",
    "    # If the monster health is higher than the die size,\n",
    "    # you MUST get the max value to defeat the monster\n",
    "    # and then we roll again to try to defeat the monster\n",
    "    return (1. / die_size) * rpg_monster_score_prob(die_size, monster_health - die_size)\n",
    "    \n",
    "for stats in [(4, 1), (4, 4), (4, 5), (4, 6), (1, 10), (100, 200), (8, 20)]:\n",
    "    print('For d={} h={}, prob={}'.format(*stats, round(rpg_monster_score_prob(*stats), 10)))\n",
    "    "
   ]
  },
  {
   "cell_type": "markdown",
   "metadata": {},
   "source": [
    "## D4 dice expected value"
   ]
  },
  {
   "cell_type": "code",
   "execution_count": 79,
   "metadata": {
    "collapsed": false
   },
   "outputs": [
    {
     "data": {
      "text/plain": [
       "3.5"
      ]
     },
     "execution_count": 79,
     "metadata": {},
     "output_type": "execute_result"
    }
   ],
   "source": [
    "# A D4 usually has a expected value of 3.5\n",
    "def mean(l):\n",
    "    return sum(l)/len(l)\n",
    "\n",
    "mean(range(1,7))"
   ]
  },
  {
   "cell_type": "markdown",
   "metadata": {},
   "source": [
    "Since a D4 has an expected value of 3.5:\n",
    "\n",
    "E(D4) = $\\frac{1}{6}\\sum_{i=1}^6{d_i} = 3.5$\n",
    "\n",
    "The new model will shift the expected value to the right..."
   ]
  },
  {
   "cell_type": "markdown",
   "metadata": {},
   "source": [
    "### Monte Carlo expectation"
   ]
  },
  {
   "cell_type": "code",
   "execution_count": 278,
   "metadata": {
    "collapsed": false
   },
   "outputs": [
    {
     "data": {
      "text/plain": [
       "4.201136"
      ]
     },
     "execution_count": 278,
     "metadata": {},
     "output_type": "execute_result"
    }
   ],
   "source": [
    "from random import randint\n",
    "\n",
    "def dice_rolls(n, sides, mean = True):\n",
    "    v = 0.\n",
    "    for _ in range(n):\n",
    "        val = round(randint(1, sides))\n",
    "        if val == sides:\n",
    "            val += dice_rolls(1, sides, mean = False)\n",
    "        v += val\n",
    "\n",
    "    return v/n if mean else v\n",
    "\n",
    "dice_rolls(1000000, 6)\n",
    "    "
   ]
  },
  {
   "cell_type": "markdown",
   "metadata": {},
   "source": [
    "Using a simple random number generator, the output converges to approximately 4.2. \n",
    "\n",
    "Below we can do a simple approximation with only 1 re-roll allowed if the maximum value is hit:"
   ]
  },
  {
   "cell_type": "code",
   "execution_count": 276,
   "metadata": {
    "collapsed": false
   },
   "outputs": [
    {
     "data": {
      "text/plain": [
       "4.083333333333333"
      ]
     },
     "execution_count": 276,
     "metadata": {},
     "output_type": "execute_result"
    }
   ],
   "source": [
    "mean([1,2,3,4,5,9.5])"
   ]
  },
  {
   "cell_type": "markdown",
   "metadata": {},
   "source": [
    "### Using infinite series to find the expectation of our model\n",
    "\n",
    "Since we know that only the last number gets modified, then the expectation will increase. For only one extra reroll, the model becomes\n",
    "\n",
    "$$\\frac{1}{d} \\left( \\sum_{i=1}^{d-1}{D_i} + D_d + \\frac{1}{d} \\sum_{i=1}^{d}{D_i} \\right)$$\n",
    "\n",
    "From above, the expectation for one reroll is exactly $4.08\\bar{3}$. If we allow the rerolls to be infinite, then the equation above becomes:\n",
    "\n",
    "$$\\frac{1}{d} \\left( \\sum_{i=1}^{d-1}{D_i} + D_d + \\frac{1}{d} \\left( \\sum_{i=1}^{d-1}{D_i} + D_d + \\dots \\right) \\right)$$\n",
    "\n",
    "$$=\\sum_{n=1}^\\infty\\left( \\sum_{i=1}^{d-1}\\left( \\frac{D_i}{d^{n}} \\right) + \\frac{d}{d^{n}} \\right)$$\n",
    "\n",
    "$$=\\sum_{n=1}^\\infty \\frac{1}{d^n}\\sum_{i=1}^{d-1}{D_i} + d\\sum_{n=1}^\\infty{\\frac{1}{d^n}}$$\n",
    "\n",
    "The geometric sum is easy to find $\\sum_{n=1}^\\infty \\frac{1}{d^n} = \\frac{1}{d-1}$. For a 6 sided die, the geometric sum becomes $0.2$. The first half of the sum becomes $0.2*(1+2+3+4+5) = 3$ and the second half becomes $6 * 0.2 = 1.2$, using the geometric sum formula. \n",
    "\n",
    "The result, 4.2, matches the monte carlo results we obtained above. "
   ]
  }
 ],
 "metadata": {
  "kernelspec": {
   "display_name": "Python 3",
   "language": "python",
   "name": "python3"
  },
  "language_info": {
   "codemirror_mode": {
    "name": "ipython",
    "version": 3
   },
   "file_extension": ".py",
   "mimetype": "text/x-python",
   "name": "python",
   "nbconvert_exporter": "python",
   "pygments_lexer": "ipython3",
   "version": "3.5.1"
  }
 },
 "nbformat": 4,
 "nbformat_minor": 0
}
